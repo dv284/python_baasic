{
 "cells": [
  {
   "cell_type": "code",
   "execution_count": 1,
   "id": "d32aa2ec",
   "metadata": {},
   "outputs": [
    {
     "name": "stdout",
     "output_type": "stream",
     "text": [
      "True\n",
      "True\n",
      "False\n"
     ]
    }
   ],
   "source": [
    "print(42 == 42)\n",
    "print(42 != '42')\n",
    "print(42 == '42')"
   ]
  },
  {
   "cell_type": "code",
   "execution_count": 2,
   "id": "ffb8ba08",
   "metadata": {},
   "outputs": [
    {
     "data": {
      "text/plain": [
       "False"
      ]
     },
     "execution_count": 2,
     "metadata": {},
     "output_type": "execute_result"
    }
   ],
   "source": [
    "(5<6) and (6<5)"
   ]
  },
  {
   "cell_type": "code",
   "execution_count": 3,
   "id": "280c62f6",
   "metadata": {},
   "outputs": [
    {
     "data": {
      "text/plain": [
       "True"
      ]
     },
     "execution_count": 3,
     "metadata": {},
     "output_type": "execute_result"
    }
   ],
   "source": [
    "(5<6) or (6<5)"
   ]
  },
  {
   "cell_type": "code",
   "execution_count": 4,
   "id": "ef4d4b74",
   "metadata": {},
   "outputs": [
    {
     "data": {
      "text/plain": [
       "False"
      ]
     },
     "execution_count": 4,
     "metadata": {},
     "output_type": "execute_result"
    }
   ],
   "source": [
    "(7<6) and (6<5)"
   ]
  },
  {
   "cell_type": "code",
   "execution_count": 8,
   "id": "5b3f425b",
   "metadata": {},
   "outputs": [
    {
     "name": "stdout",
     "output_type": "stream",
     "text": [
      "I want money\n",
      "Enter your password\n",
      "ID is correct\n",
      "Password is not correct\n"
     ]
    }
   ],
   "source": [
    "ID = 'apple'\n",
    "Password = input()\n",
    "print(\"Enter your password\")\n",
    "\n",
    "if ID == 'apple':\n",
    "    print('ID is correct')\n",
    "    if Password == 'apple1':\n",
    "        print(\"Password is correct\")\n",
    "    else:\n",
    "        print(\"Password is not correct\")"
   ]
  },
  {
   "cell_type": "code",
   "execution_count": null,
   "id": "7e562efc",
   "metadata": {},
   "outputs": [],
   "source": [
    "ID = 'apple'\n",
    "Password = input()\n",
    "print(\"Enter your password\")\n",
    "\n",
    "if ID == 'apple':\n",
    "    print('ID is correct')\n",
    "    if Password == 'apple1':\n",
    "        print(\"Password is correct\")\n",
    "    else:\n",
    "        print(\"Password is not correct\")"
   ]
  },
  {
   "cell_type": "code",
   "execution_count": 13,
   "id": "f73d3875",
   "metadata": {},
   "outputs": [
    {
     "name": "stdout",
     "output_type": "stream",
     "text": [
      "100\n",
      "Your score 100\n",
      "Your grade is A\n"
     ]
    }
   ],
   "source": [
    "score = input()\n",
    "print(\"Your score\", score)\n",
    "\n",
    "score = int(score)\n",
    "\n",
    "if score > 90:\n",
    "    print(\"Your grade is A\")\n",
    "elif score >80:\n",
    "    print(\"Your grade is B\")\n",
    "elif score > 70:\n",
    "    print(\"Your grade is C\")\n",
    "else:\n",
    "        print(\"Your grade is D\")"
   ]
  },
  {
   "cell_type": "code",
   "execution_count": null,
   "id": "fe9cf2cd",
   "metadata": {},
   "outputs": [],
   "source": []
  },
  {
   "cell_type": "code",
   "execution_count": null,
   "id": "12ccefc9",
   "metadata": {},
   "outputs": [],
   "source": []
  },
  {
   "cell_type": "code",
   "execution_count": null,
   "id": "71e12435",
   "metadata": {},
   "outputs": [],
   "source": []
  }
 ],
 "metadata": {
  "kernelspec": {
   "display_name": "Python 3 (ipykernel)",
   "language": "python",
   "name": "python3"
  },
  "language_info": {
   "codemirror_mode": {
    "name": "ipython",
    "version": 3
   },
   "file_extension": ".py",
   "mimetype": "text/x-python",
   "name": "python",
   "nbconvert_exporter": "python",
   "pygments_lexer": "ipython3",
   "version": "3.11.5"
  }
 },
 "nbformat": 4,
 "nbformat_minor": 5
}
