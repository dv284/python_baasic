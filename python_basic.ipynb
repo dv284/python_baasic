{
 "cells": [
  {
   "cell_type": "code",
   "execution_count": 1,
   "id": "c7b4cde3",
   "metadata": {},
   "outputs": [
    {
     "data": {
      "text/plain": [
       "2"
      ]
     },
     "execution_count": 1,
     "metadata": {},
     "output_type": "execute_result"
    }
   ],
   "source": [
    "2"
   ]
  },
  {
   "cell_type": "code",
   "execution_count": 3,
   "id": "5e184a4e",
   "metadata": {},
   "outputs": [
    {
     "data": {
      "text/plain": [
       "'jang'"
      ]
     },
     "execution_count": 3,
     "metadata": {},
     "output_type": "execute_result"
    }
   ],
   "source": [
    "\"jang\""
   ]
  },
  {
   "cell_type": "code",
   "execution_count": 5,
   "id": "0d260d08",
   "metadata": {},
   "outputs": [
    {
     "data": {
      "text/plain": [
       "-5"
      ]
     },
     "execution_count": 5,
     "metadata": {},
     "output_type": "execute_result"
    }
   ],
   "source": [
    "2+2\n",
    "2*2\n",
    "2**2\n",
    "2/2\n",
    "3//9\n",
    "5-10"
   ]
  },
  {
   "cell_type": "code",
   "execution_count": 6,
   "id": "cc8fea75",
   "metadata": {},
   "outputs": [
    {
     "name": "stdout",
     "output_type": "stream",
     "text": [
      "4\n",
      "4\n",
      "4\n",
      "1.0\n",
      "0\n",
      "-5\n"
     ]
    }
   ],
   "source": [
    "print(2+2)\n",
    "print(2*2)\n",
    "print(2**2)\n",
    "print(2/2)\n",
    "print(3//19)\n",
    "print(5-10)"
   ]
  },
  {
   "cell_type": "code",
   "execution_count": 7,
   "id": "fd4b5a0c",
   "metadata": {},
   "outputs": [],
   "source": [
    "python = 1"
   ]
  },
  {
   "cell_type": "code",
   "execution_count": 9,
   "id": "d900c686",
   "metadata": {},
   "outputs": [
    {
     "ename": "TypeError",
     "evalue": "unsupported operand type(s) for +: 'int' and 'str'",
     "output_type": "error",
     "traceback": [
      "\u001b[0;31m---------------------------------------------------------------------------\u001b[0m",
      "\u001b[0;31mTypeError\u001b[0m                                 Traceback (most recent call last)",
      "Cell \u001b[0;32mIn[9], line 1\u001b[0m\n\u001b[0;32m----> 1\u001b[0m python \u001b[38;5;241m+\u001b[39m \u001b[38;5;124m'\u001b[39m\u001b[38;5;124m1\u001b[39m\u001b[38;5;124m'\u001b[39m\n",
      "\u001b[0;31mTypeError\u001b[0m: unsupported operand type(s) for +: 'int' and 'str'"
     ]
    }
   ],
   "source": [
    "python + '1'"
   ]
  },
  {
   "cell_type": "code",
   "execution_count": 10,
   "id": "ecb45818",
   "metadata": {},
   "outputs": [
    {
     "data": {
      "text/plain": [
       "2"
      ]
     },
     "execution_count": 10,
     "metadata": {},
     "output_type": "execute_result"
    }
   ],
   "source": [
    "python +int('1')"
   ]
  },
  {
   "cell_type": "code",
   "execution_count": 12,
   "id": "da4bf221",
   "metadata": {},
   "outputs": [
    {
     "name": "stdout",
     "output_type": "stream",
     "text": [
      "Hello, World !\n",
      "what is your name ?\n",
      "2\n",
      "It is good to meet you, 2\n"
     ]
    }
   ],
   "source": [
    "print(\"Hello, World !\")\n",
    "print('what is your name ?')\n",
    "myname = input()\n",
    "print(\"It is good to meet you, \" + myname)"
   ]
  },
  {
   "cell_type": "code",
   "execution_count": null,
   "id": "75a9304e",
   "metadata": {},
   "outputs": [],
   "source": []
  },
  {
   "cell_type": "code",
   "execution_count": null,
   "id": "1ad65e48",
   "metadata": {},
   "outputs": [],
   "source": []
  },
  {
   "cell_type": "code",
   "execution_count": null,
   "id": "c31a82a7",
   "metadata": {},
   "outputs": [],
   "source": []
  }
 ],
 "metadata": {
  "kernelspec": {
   "display_name": "Python 3 (ipykernel)",
   "language": "python",
   "name": "python3"
  },
  "language_info": {
   "codemirror_mode": {
    "name": "ipython",
    "version": 3
   },
   "file_extension": ".py",
   "mimetype": "text/x-python",
   "name": "python",
   "nbconvert_exporter": "python",
   "pygments_lexer": "ipython3",
   "version": "3.11.5"
  }
 },
 "nbformat": 4,
 "nbformat_minor": 5
}
